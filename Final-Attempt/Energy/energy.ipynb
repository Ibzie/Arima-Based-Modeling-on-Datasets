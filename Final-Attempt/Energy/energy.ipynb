{
 "cells": [
  {
   "cell_type": "code",
   "execution_count": 2,
   "id": "initial_id",
   "metadata": {
    "collapsed": true,
    "ExecuteTime": {
     "end_time": "2024-05-13T10:49:39.779905Z",
     "start_time": "2024-05-13T10:49:37.932766Z"
    }
   },
   "outputs": [],
   "source": [
    "import pandas as pd\n",
    "import numpy as np\n",
    "from statsmodels.tsa.stattools import adfuller\n",
    "from statsmodels.tsa.arima.model import ARIMA\n",
    "from statsmodels.graphics.tsaplots import plot_acf, plot_pacf\n",
    "import matplotlib.pyplot as plt\n",
    "from sklearn.preprocessing import MinMaxScaler\n",
    "from sklearn.model_selection import train_test_split\n",
    "from statsmodels.tsa.seasonal import STL\n",
    "from sklearn.metrics import mean_absolute_error, mean_squared_error"
   ]
  },
  {
   "cell_type": "code",
   "outputs": [
    {
     "data": {
      "text/plain": "                        time  generation biomass  \\\n0  2015-01-01 00:00:00+01:00               447.0   \n1  2015-01-01 01:00:00+01:00               449.0   \n2  2015-01-01 02:00:00+01:00               448.0   \n3  2015-01-01 03:00:00+01:00               438.0   \n4  2015-01-01 04:00:00+01:00               428.0   \n\n   generation fossil brown coal/lignite  generation fossil coal-derived gas  \\\n0                                 329.0                                 0.0   \n1                                 328.0                                 0.0   \n2                                 323.0                                 0.0   \n3                                 254.0                                 0.0   \n4                                 187.0                                 0.0   \n\n   generation fossil gas  generation fossil hard coal  generation fossil oil  \\\n0                 4844.0                       4821.0                  162.0   \n1                 5196.0                       4755.0                  158.0   \n2                 4857.0                       4581.0                  157.0   \n3                 4314.0                       4131.0                  160.0   \n4                 4130.0                       3840.0                  156.0   \n\n   generation fossil oil shale  generation fossil peat  generation geothermal  \\\n0                          0.0                     0.0                    0.0   \n1                          0.0                     0.0                    0.0   \n2                          0.0                     0.0                    0.0   \n3                          0.0                     0.0                    0.0   \n4                          0.0                     0.0                    0.0   \n\n   ...  generation waste  generation wind offshore  generation wind onshore  \\\n0  ...             196.0                       0.0                   6378.0   \n1  ...             195.0                       0.0                   5890.0   \n2  ...             196.0                       0.0                   5461.0   \n3  ...             191.0                       0.0                   5238.0   \n4  ...             189.0                       0.0                   4935.0   \n\n   forecast solar day ahead  forecast wind offshore eday ahead  \\\n0                      17.0                                NaN   \n1                      16.0                                NaN   \n2                       8.0                                NaN   \n3                       2.0                                NaN   \n4                       9.0                                NaN   \n\n   forecast wind onshore day ahead  total load forecast  total load actual  \\\n0                           6436.0              26118.0            25385.0   \n1                           5856.0              24934.0            24382.0   \n2                           5454.0              23515.0            22734.0   \n3                           5151.0              22642.0            21286.0   \n4                           4861.0              21785.0            20264.0   \n\n   price day ahead  price actual  \n0            50.10         65.41  \n1            48.10         64.92  \n2            47.33         64.48  \n3            42.27         59.32  \n4            38.41         56.04  \n\n[5 rows x 29 columns]",
      "text/html": "<div>\n<style scoped>\n    .dataframe tbody tr th:only-of-type {\n        vertical-align: middle;\n    }\n\n    .dataframe tbody tr th {\n        vertical-align: top;\n    }\n\n    .dataframe thead th {\n        text-align: right;\n    }\n</style>\n<table border=\"1\" class=\"dataframe\">\n  <thead>\n    <tr style=\"text-align: right;\">\n      <th></th>\n      <th>time</th>\n      <th>generation biomass</th>\n      <th>generation fossil brown coal/lignite</th>\n      <th>generation fossil coal-derived gas</th>\n      <th>generation fossil gas</th>\n      <th>generation fossil hard coal</th>\n      <th>generation fossil oil</th>\n      <th>generation fossil oil shale</th>\n      <th>generation fossil peat</th>\n      <th>generation geothermal</th>\n      <th>...</th>\n      <th>generation waste</th>\n      <th>generation wind offshore</th>\n      <th>generation wind onshore</th>\n      <th>forecast solar day ahead</th>\n      <th>forecast wind offshore eday ahead</th>\n      <th>forecast wind onshore day ahead</th>\n      <th>total load forecast</th>\n      <th>total load actual</th>\n      <th>price day ahead</th>\n      <th>price actual</th>\n    </tr>\n  </thead>\n  <tbody>\n    <tr>\n      <th>0</th>\n      <td>2015-01-01 00:00:00+01:00</td>\n      <td>447.0</td>\n      <td>329.0</td>\n      <td>0.0</td>\n      <td>4844.0</td>\n      <td>4821.0</td>\n      <td>162.0</td>\n      <td>0.0</td>\n      <td>0.0</td>\n      <td>0.0</td>\n      <td>...</td>\n      <td>196.0</td>\n      <td>0.0</td>\n      <td>6378.0</td>\n      <td>17.0</td>\n      <td>NaN</td>\n      <td>6436.0</td>\n      <td>26118.0</td>\n      <td>25385.0</td>\n      <td>50.10</td>\n      <td>65.41</td>\n    </tr>\n    <tr>\n      <th>1</th>\n      <td>2015-01-01 01:00:00+01:00</td>\n      <td>449.0</td>\n      <td>328.0</td>\n      <td>0.0</td>\n      <td>5196.0</td>\n      <td>4755.0</td>\n      <td>158.0</td>\n      <td>0.0</td>\n      <td>0.0</td>\n      <td>0.0</td>\n      <td>...</td>\n      <td>195.0</td>\n      <td>0.0</td>\n      <td>5890.0</td>\n      <td>16.0</td>\n      <td>NaN</td>\n      <td>5856.0</td>\n      <td>24934.0</td>\n      <td>24382.0</td>\n      <td>48.10</td>\n      <td>64.92</td>\n    </tr>\n    <tr>\n      <th>2</th>\n      <td>2015-01-01 02:00:00+01:00</td>\n      <td>448.0</td>\n      <td>323.0</td>\n      <td>0.0</td>\n      <td>4857.0</td>\n      <td>4581.0</td>\n      <td>157.0</td>\n      <td>0.0</td>\n      <td>0.0</td>\n      <td>0.0</td>\n      <td>...</td>\n      <td>196.0</td>\n      <td>0.0</td>\n      <td>5461.0</td>\n      <td>8.0</td>\n      <td>NaN</td>\n      <td>5454.0</td>\n      <td>23515.0</td>\n      <td>22734.0</td>\n      <td>47.33</td>\n      <td>64.48</td>\n    </tr>\n    <tr>\n      <th>3</th>\n      <td>2015-01-01 03:00:00+01:00</td>\n      <td>438.0</td>\n      <td>254.0</td>\n      <td>0.0</td>\n      <td>4314.0</td>\n      <td>4131.0</td>\n      <td>160.0</td>\n      <td>0.0</td>\n      <td>0.0</td>\n      <td>0.0</td>\n      <td>...</td>\n      <td>191.0</td>\n      <td>0.0</td>\n      <td>5238.0</td>\n      <td>2.0</td>\n      <td>NaN</td>\n      <td>5151.0</td>\n      <td>22642.0</td>\n      <td>21286.0</td>\n      <td>42.27</td>\n      <td>59.32</td>\n    </tr>\n    <tr>\n      <th>4</th>\n      <td>2015-01-01 04:00:00+01:00</td>\n      <td>428.0</td>\n      <td>187.0</td>\n      <td>0.0</td>\n      <td>4130.0</td>\n      <td>3840.0</td>\n      <td>156.0</td>\n      <td>0.0</td>\n      <td>0.0</td>\n      <td>0.0</td>\n      <td>...</td>\n      <td>189.0</td>\n      <td>0.0</td>\n      <td>4935.0</td>\n      <td>9.0</td>\n      <td>NaN</td>\n      <td>4861.0</td>\n      <td>21785.0</td>\n      <td>20264.0</td>\n      <td>38.41</td>\n      <td>56.04</td>\n    </tr>\n  </tbody>\n</table>\n<p>5 rows × 29 columns</p>\n</div>"
     },
     "execution_count": 12,
     "metadata": {},
     "output_type": "execute_result"
    }
   ],
   "source": [
    "energy = pd.read_csv(\"energy_dataset.csv\")\n",
    "energy.head()"
   ],
   "metadata": {
    "collapsed": false,
    "ExecuteTime": {
     "end_time": "2024-05-13T10:51:20.686724Z",
     "start_time": "2024-05-13T10:51:20.581405Z"
    }
   },
   "id": "ee21df0c4369c2fc",
   "execution_count": 12
  },
  {
   "cell_type": "code",
   "outputs": [],
   "source": [
    "energy[\"date\"] = pd.to_datetime(energy[\"date\"])\n",
    "energy = energy.set_index(\"date\")"
   ],
   "metadata": {
    "collapsed": false,
    "ExecuteTime": {
     "end_time": "2024-05-13T10:51:40.173134Z",
     "start_time": "2024-05-13T10:51:38.101780Z"
    }
   },
   "id": "bbc3d0922499b25b",
   "execution_count": 15
  },
  {
   "cell_type": "code",
   "outputs": [
    {
     "data": {
      "text/plain": "generation biomass                                19\ngeneration fossil brown coal/lignite              18\ngeneration fossil coal-derived gas                18\ngeneration fossil gas                             18\ngeneration fossil hard coal                       18\ngeneration fossil oil                             19\ngeneration fossil oil shale                       18\ngeneration fossil peat                            18\ngeneration geothermal                             18\ngeneration hydro pumped storage aggregated     35064\ngeneration hydro pumped storage consumption       19\ngeneration hydro run-of-river and poundage        19\ngeneration hydro water reservoir                  18\ngeneration marine                                 19\ngeneration nuclear                                17\ngeneration other                                  18\ngeneration other renewable                        18\ngeneration solar                                  18\ngeneration waste                                  19\ngeneration wind offshore                          18\ngeneration wind onshore                           18\nforecast solar day ahead                           0\nforecast wind offshore eday ahead              35064\nforecast wind onshore day ahead                    0\ntotal load forecast                                0\ntotal load actual                                 36\nprice day ahead                                    0\nprice actual                                       0\ndtype: int64"
     },
     "execution_count": 16,
     "metadata": {},
     "output_type": "execute_result"
    }
   ],
   "source": [
    "energy.isna().sum()"
   ],
   "metadata": {
    "collapsed": false,
    "ExecuteTime": {
     "end_time": "2024-05-13T10:51:41.288417Z",
     "start_time": "2024-05-13T10:51:41.278398Z"
    }
   },
   "id": "1efdfd71bbef332a",
   "execution_count": 16
  },
  {
   "cell_type": "code",
   "outputs": [],
   "source": [
    "energy.fillna(energy.mean(), inplace=True)"
   ],
   "metadata": {
    "collapsed": false,
    "ExecuteTime": {
     "end_time": "2024-05-13T10:51:43.270333Z",
     "start_time": "2024-05-13T10:51:43.089638Z"
    }
   },
   "id": "c3adbbae56b197b9",
   "execution_count": 17
  },
  {
   "cell_type": "code",
   "outputs": [],
   "source": [
    "energy.rename(columns={'time': 'date'}, inplace=True)"
   ],
   "metadata": {
    "collapsed": false,
    "ExecuteTime": {
     "end_time": "2024-05-13T10:51:26.281280Z",
     "start_time": "2024-05-13T10:51:26.251314Z"
    }
   },
   "id": "26d53b864b93795f",
   "execution_count": 13
  },
  {
   "cell_type": "code",
   "outputs": [
    {
     "data": {
      "text/plain": "Index(['date', 'generation biomass', 'generation fossil brown coal/lignite',\n       'generation fossil coal-derived gas', 'generation fossil gas',\n       'generation fossil hard coal', 'generation fossil oil',\n       'generation fossil oil shale', 'generation fossil peat',\n       'generation geothermal', 'generation hydro pumped storage aggregated',\n       'generation hydro pumped storage consumption',\n       'generation hydro run-of-river and poundage',\n       'generation hydro water reservoir', 'generation marine',\n       'generation nuclear', 'generation other', 'generation other renewable',\n       'generation solar', 'generation waste', 'generation wind offshore',\n       'generation wind onshore', 'forecast solar day ahead',\n       'forecast wind offshore eday ahead', 'forecast wind onshore day ahead',\n       'total load forecast', 'total load actual', 'price day ahead',\n       'price actual'],\n      dtype='object')"
     },
     "execution_count": 14,
     "metadata": {},
     "output_type": "execute_result"
    }
   ],
   "source": [
    "energy.columns"
   ],
   "metadata": {
    "collapsed": false,
    "ExecuteTime": {
     "end_time": "2024-05-13T10:51:27.524774Z",
     "start_time": "2024-05-13T10:51:27.520179Z"
    }
   },
   "id": "6aae99a84536fe3d",
   "execution_count": 14
  },
  {
   "cell_type": "code",
   "outputs": [
    {
     "data": {
      "text/plain": "                           generation biomass  \\\ndate                                            \n2015-01-01 00:00:00+01:00               447.0   \n2015-01-01 01:00:00+01:00               449.0   \n2015-01-01 02:00:00+01:00               448.0   \n2015-01-01 03:00:00+01:00               438.0   \n2015-01-01 04:00:00+01:00               428.0   \n\n                           generation fossil brown coal/lignite  \\\ndate                                                              \n2015-01-01 00:00:00+01:00                                 329.0   \n2015-01-01 01:00:00+01:00                                 328.0   \n2015-01-01 02:00:00+01:00                                 323.0   \n2015-01-01 03:00:00+01:00                                 254.0   \n2015-01-01 04:00:00+01:00                                 187.0   \n\n                           generation fossil coal-derived gas  \\\ndate                                                            \n2015-01-01 00:00:00+01:00                                 0.0   \n2015-01-01 01:00:00+01:00                                 0.0   \n2015-01-01 02:00:00+01:00                                 0.0   \n2015-01-01 03:00:00+01:00                                 0.0   \n2015-01-01 04:00:00+01:00                                 0.0   \n\n                           generation fossil gas  generation fossil hard coal  \\\ndate                                                                            \n2015-01-01 00:00:00+01:00                 4844.0                       4821.0   \n2015-01-01 01:00:00+01:00                 5196.0                       4755.0   \n2015-01-01 02:00:00+01:00                 4857.0                       4581.0   \n2015-01-01 03:00:00+01:00                 4314.0                       4131.0   \n2015-01-01 04:00:00+01:00                 4130.0                       3840.0   \n\n                           generation fossil oil  generation fossil oil shale  \\\ndate                                                                            \n2015-01-01 00:00:00+01:00                  162.0                          0.0   \n2015-01-01 01:00:00+01:00                  158.0                          0.0   \n2015-01-01 02:00:00+01:00                  157.0                          0.0   \n2015-01-01 03:00:00+01:00                  160.0                          0.0   \n2015-01-01 04:00:00+01:00                  156.0                          0.0   \n\n                           generation fossil peat  generation geothermal  \\\ndate                                                                       \n2015-01-01 00:00:00+01:00                     0.0                    0.0   \n2015-01-01 01:00:00+01:00                     0.0                    0.0   \n2015-01-01 02:00:00+01:00                     0.0                    0.0   \n2015-01-01 03:00:00+01:00                     0.0                    0.0   \n2015-01-01 04:00:00+01:00                     0.0                    0.0   \n\n                           generation hydro pumped storage aggregated  ...  \\\ndate                                                                   ...   \n2015-01-01 00:00:00+01:00                                         NaN  ...   \n2015-01-01 01:00:00+01:00                                         NaN  ...   \n2015-01-01 02:00:00+01:00                                         NaN  ...   \n2015-01-01 03:00:00+01:00                                         NaN  ...   \n2015-01-01 04:00:00+01:00                                         NaN  ...   \n\n                           generation waste  generation wind offshore  \\\ndate                                                                    \n2015-01-01 00:00:00+01:00             196.0                       0.0   \n2015-01-01 01:00:00+01:00             195.0                       0.0   \n2015-01-01 02:00:00+01:00             196.0                       0.0   \n2015-01-01 03:00:00+01:00             191.0                       0.0   \n2015-01-01 04:00:00+01:00             189.0                       0.0   \n\n                           generation wind onshore  forecast solar day ahead  \\\ndate                                                                           \n2015-01-01 00:00:00+01:00                   6378.0                      17.0   \n2015-01-01 01:00:00+01:00                   5890.0                      16.0   \n2015-01-01 02:00:00+01:00                   5461.0                       8.0   \n2015-01-01 03:00:00+01:00                   5238.0                       2.0   \n2015-01-01 04:00:00+01:00                   4935.0                       9.0   \n\n                           forecast wind offshore eday ahead  \\\ndate                                                           \n2015-01-01 00:00:00+01:00                                NaN   \n2015-01-01 01:00:00+01:00                                NaN   \n2015-01-01 02:00:00+01:00                                NaN   \n2015-01-01 03:00:00+01:00                                NaN   \n2015-01-01 04:00:00+01:00                                NaN   \n\n                           forecast wind onshore day ahead  \\\ndate                                                         \n2015-01-01 00:00:00+01:00                           6436.0   \n2015-01-01 01:00:00+01:00                           5856.0   \n2015-01-01 02:00:00+01:00                           5454.0   \n2015-01-01 03:00:00+01:00                           5151.0   \n2015-01-01 04:00:00+01:00                           4861.0   \n\n                           total load forecast  total load actual  \\\ndate                                                                \n2015-01-01 00:00:00+01:00              26118.0            25385.0   \n2015-01-01 01:00:00+01:00              24934.0            24382.0   \n2015-01-01 02:00:00+01:00              23515.0            22734.0   \n2015-01-01 03:00:00+01:00              22642.0            21286.0   \n2015-01-01 04:00:00+01:00              21785.0            20264.0   \n\n                           price day ahead  price actual  \ndate                                                      \n2015-01-01 00:00:00+01:00            50.10         65.41  \n2015-01-01 01:00:00+01:00            48.10         64.92  \n2015-01-01 02:00:00+01:00            47.33         64.48  \n2015-01-01 03:00:00+01:00            42.27         59.32  \n2015-01-01 04:00:00+01:00            38.41         56.04  \n\n[5 rows x 28 columns]",
      "text/html": "<div>\n<style scoped>\n    .dataframe tbody tr th:only-of-type {\n        vertical-align: middle;\n    }\n\n    .dataframe tbody tr th {\n        vertical-align: top;\n    }\n\n    .dataframe thead th {\n        text-align: right;\n    }\n</style>\n<table border=\"1\" class=\"dataframe\">\n  <thead>\n    <tr style=\"text-align: right;\">\n      <th></th>\n      <th>generation biomass</th>\n      <th>generation fossil brown coal/lignite</th>\n      <th>generation fossil coal-derived gas</th>\n      <th>generation fossil gas</th>\n      <th>generation fossil hard coal</th>\n      <th>generation fossil oil</th>\n      <th>generation fossil oil shale</th>\n      <th>generation fossil peat</th>\n      <th>generation geothermal</th>\n      <th>generation hydro pumped storage aggregated</th>\n      <th>...</th>\n      <th>generation waste</th>\n      <th>generation wind offshore</th>\n      <th>generation wind onshore</th>\n      <th>forecast solar day ahead</th>\n      <th>forecast wind offshore eday ahead</th>\n      <th>forecast wind onshore day ahead</th>\n      <th>total load forecast</th>\n      <th>total load actual</th>\n      <th>price day ahead</th>\n      <th>price actual</th>\n    </tr>\n    <tr>\n      <th>date</th>\n      <th></th>\n      <th></th>\n      <th></th>\n      <th></th>\n      <th></th>\n      <th></th>\n      <th></th>\n      <th></th>\n      <th></th>\n      <th></th>\n      <th></th>\n      <th></th>\n      <th></th>\n      <th></th>\n      <th></th>\n      <th></th>\n      <th></th>\n      <th></th>\n      <th></th>\n      <th></th>\n      <th></th>\n    </tr>\n  </thead>\n  <tbody>\n    <tr>\n      <th>2015-01-01 00:00:00+01:00</th>\n      <td>447.0</td>\n      <td>329.0</td>\n      <td>0.0</td>\n      <td>4844.0</td>\n      <td>4821.0</td>\n      <td>162.0</td>\n      <td>0.0</td>\n      <td>0.0</td>\n      <td>0.0</td>\n      <td>NaN</td>\n      <td>...</td>\n      <td>196.0</td>\n      <td>0.0</td>\n      <td>6378.0</td>\n      <td>17.0</td>\n      <td>NaN</td>\n      <td>6436.0</td>\n      <td>26118.0</td>\n      <td>25385.0</td>\n      <td>50.10</td>\n      <td>65.41</td>\n    </tr>\n    <tr>\n      <th>2015-01-01 01:00:00+01:00</th>\n      <td>449.0</td>\n      <td>328.0</td>\n      <td>0.0</td>\n      <td>5196.0</td>\n      <td>4755.0</td>\n      <td>158.0</td>\n      <td>0.0</td>\n      <td>0.0</td>\n      <td>0.0</td>\n      <td>NaN</td>\n      <td>...</td>\n      <td>195.0</td>\n      <td>0.0</td>\n      <td>5890.0</td>\n      <td>16.0</td>\n      <td>NaN</td>\n      <td>5856.0</td>\n      <td>24934.0</td>\n      <td>24382.0</td>\n      <td>48.10</td>\n      <td>64.92</td>\n    </tr>\n    <tr>\n      <th>2015-01-01 02:00:00+01:00</th>\n      <td>448.0</td>\n      <td>323.0</td>\n      <td>0.0</td>\n      <td>4857.0</td>\n      <td>4581.0</td>\n      <td>157.0</td>\n      <td>0.0</td>\n      <td>0.0</td>\n      <td>0.0</td>\n      <td>NaN</td>\n      <td>...</td>\n      <td>196.0</td>\n      <td>0.0</td>\n      <td>5461.0</td>\n      <td>8.0</td>\n      <td>NaN</td>\n      <td>5454.0</td>\n      <td>23515.0</td>\n      <td>22734.0</td>\n      <td>47.33</td>\n      <td>64.48</td>\n    </tr>\n    <tr>\n      <th>2015-01-01 03:00:00+01:00</th>\n      <td>438.0</td>\n      <td>254.0</td>\n      <td>0.0</td>\n      <td>4314.0</td>\n      <td>4131.0</td>\n      <td>160.0</td>\n      <td>0.0</td>\n      <td>0.0</td>\n      <td>0.0</td>\n      <td>NaN</td>\n      <td>...</td>\n      <td>191.0</td>\n      <td>0.0</td>\n      <td>5238.0</td>\n      <td>2.0</td>\n      <td>NaN</td>\n      <td>5151.0</td>\n      <td>22642.0</td>\n      <td>21286.0</td>\n      <td>42.27</td>\n      <td>59.32</td>\n    </tr>\n    <tr>\n      <th>2015-01-01 04:00:00+01:00</th>\n      <td>428.0</td>\n      <td>187.0</td>\n      <td>0.0</td>\n      <td>4130.0</td>\n      <td>3840.0</td>\n      <td>156.0</td>\n      <td>0.0</td>\n      <td>0.0</td>\n      <td>0.0</td>\n      <td>NaN</td>\n      <td>...</td>\n      <td>189.0</td>\n      <td>0.0</td>\n      <td>4935.0</td>\n      <td>9.0</td>\n      <td>NaN</td>\n      <td>4861.0</td>\n      <td>21785.0</td>\n      <td>20264.0</td>\n      <td>38.41</td>\n      <td>56.04</td>\n    </tr>\n  </tbody>\n</table>\n<p>5 rows × 28 columns</p>\n</div>"
     },
     "execution_count": 18,
     "metadata": {},
     "output_type": "execute_result"
    }
   ],
   "source": [
    "energy.head()"
   ],
   "metadata": {
    "collapsed": false,
    "ExecuteTime": {
     "end_time": "2024-05-13T10:51:52.054250Z",
     "start_time": "2024-05-13T10:51:52.031056Z"
    }
   },
   "id": "70d1203b0e28752f",
   "execution_count": 18
  },
  {
   "cell_type": "code",
   "outputs": [],
   "source": [],
   "metadata": {
    "collapsed": false
   },
   "id": "f5fb87fca8c53ca5"
  }
 ],
 "metadata": {
  "kernelspec": {
   "display_name": "Python 3",
   "language": "python",
   "name": "python3"
  },
  "language_info": {
   "codemirror_mode": {
    "name": "ipython",
    "version": 2
   },
   "file_extension": ".py",
   "mimetype": "text/x-python",
   "name": "python",
   "nbconvert_exporter": "python",
   "pygments_lexer": "ipython2",
   "version": "2.7.6"
  }
 },
 "nbformat": 4,
 "nbformat_minor": 5
}
