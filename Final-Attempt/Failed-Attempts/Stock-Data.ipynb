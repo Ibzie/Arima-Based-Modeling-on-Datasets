{
 "cells": [
  {
   "cell_type": "code",
   "execution_count": 1,
   "metadata": {
    "collapsed": true
   },
   "outputs": [
    {
     "data": {
      "text/plain": "         DATE    SP500\n0  2010-06-28  1074.57\n1  2010-06-29  1041.24\n2  2010-06-30  1030.71\n3  2010-07-01  1027.37\n4  2010-07-02  1022.58",
      "text/html": "<div>\n<style scoped>\n    .dataframe tbody tr th:only-of-type {\n        vertical-align: middle;\n    }\n\n    .dataframe tbody tr th {\n        vertical-align: top;\n    }\n\n    .dataframe thead th {\n        text-align: right;\n    }\n</style>\n<table border=\"1\" class=\"dataframe\">\n  <thead>\n    <tr style=\"text-align: right;\">\n      <th></th>\n      <th>DATE</th>\n      <th>SP500</th>\n    </tr>\n  </thead>\n  <tbody>\n    <tr>\n      <th>0</th>\n      <td>2010-06-28</td>\n      <td>1074.57</td>\n    </tr>\n    <tr>\n      <th>1</th>\n      <td>2010-06-29</td>\n      <td>1041.24</td>\n    </tr>\n    <tr>\n      <th>2</th>\n      <td>2010-06-30</td>\n      <td>1030.71</td>\n    </tr>\n    <tr>\n      <th>3</th>\n      <td>2010-07-01</td>\n      <td>1027.37</td>\n    </tr>\n    <tr>\n      <th>4</th>\n      <td>2010-07-02</td>\n      <td>1022.58</td>\n    </tr>\n  </tbody>\n</table>\n</div>"
     },
     "execution_count": 1,
     "metadata": {},
     "output_type": "execute_result"
    }
   ],
   "source": [
    "import pandas as pd\n",
    "df = pd.read_csv(\"Data/SP500.csv\")\n",
    "df.head()"
   ]
  },
  {
   "cell_type": "code",
   "execution_count": null,
   "outputs": [],
   "source": [],
   "metadata": {
    "collapsed": false
   }
  }
 ],
 "metadata": {
  "kernelspec": {
   "display_name": "Python 3",
   "language": "python",
   "name": "python3"
  },
  "language_info": {
   "codemirror_mode": {
    "name": "ipython",
    "version": 2
   },
   "file_extension": ".py",
   "mimetype": "text/x-python",
   "name": "python",
   "nbconvert_exporter": "python",
   "pygments_lexer": "ipython2",
   "version": "2.7.6"
  }
 },
 "nbformat": 4,
 "nbformat_minor": 0
}
